{
  "nbformat": 4,
  "nbformat_minor": 0,
  "metadata": {
    "colab": {
      "name": "Hierarchical_Clustering.ipynb",
      "provenance": [],
      "collapsed_sections": []
    },
    "kernelspec": {
      "name": "python3",
      "display_name": "Python 3"
    }
  },
  "cells": [
    {
      "cell_type": "markdown",
      "metadata": {
        "id": "L0pqWLJjkjqu",
        "colab_type": "text"
      },
      "source": [
        "# This notebook depicts Hierarchical (Agglomerative) Clustering on randomly generated dataset"
      ]
    },
    {
      "cell_type": "code",
      "metadata": {
        "id": "esvMYZPWjCpu",
        "colab_type": "code",
        "colab": {
          "base_uri": "https://localhost:8080/",
          "height": 74
        },
        "outputId": "b221453b-e7bb-47c6-b29b-46c42054f908"
      },
      "source": [
        "#Importing the required modules \n",
        "import pandas as pd \n",
        "import numpy as np\n",
        "import matplotlib.pyplot as plt \n",
        "from scipy import ndimage\n",
        "from scipy.cluster import hierarchy \n",
        "from scipy.spatial import distance_matrix\n",
        "from sklearn import manifold, datasets\n",
        "from sklearn.cluster import AgglomerativeClustering \n",
        "from sklearn.datasets.samples_generator import make_blobs \n",
        "%matplotlib inline "
      ],
      "execution_count": 2,
      "outputs": [
        {
          "output_type": "stream",
          "text": [
            "/usr/local/lib/python3.6/dist-packages/sklearn/utils/deprecation.py:144: FutureWarning: The sklearn.datasets.samples_generator module is  deprecated in version 0.22 and will be removed in version 0.24. The corresponding classes / functions should instead be imported from sklearn.datasets. Anything that cannot be imported from sklearn.datasets is now part of the private API.\n",
            "  warnings.warn(message, FutureWarning)\n"
          ],
          "name": "stderr"
        }
      ]
    },
    {
      "cell_type": "code",
      "metadata": {
        "id": "dFcDj0rcmoDa",
        "colab_type": "code",
        "colab": {}
      },
      "source": [
        "# Genearting Random data using make_blobs class\n",
        "\n",
        "x1, y1 = make_blobs(n_samples= 50, centers=[[4,4], [-2,-1],[1,1],[10,-4]],cluster_std=0.9)"
      ],
      "execution_count": 3,
      "outputs": []
    },
    {
      "cell_type": "code",
      "metadata": {
        "id": "ALklTdPwpZHv",
        "colab_type": "code",
        "colab": {
          "base_uri": "https://localhost:8080/",
          "height": 108
        },
        "outputId": "57106fc9-8cb4-4d9c-a923-252de321ee95"
      },
      "source": [
        "x1[0:5]"
      ],
      "execution_count": 4,
      "outputs": [
        {
          "output_type": "execute_result",
          "data": {
            "text/plain": [
              "array([[ 4.59849307,  4.13477841],\n",
              "       [-0.08145617,  0.29271511],\n",
              "       [ 9.34082802, -5.18050961],\n",
              "       [10.38491477, -3.77662294],\n",
              "       [ 1.72218634,  2.13862856]])"
            ]
          },
          "metadata": {
            "tags": []
          },
          "execution_count": 4
        }
      ]
    },
    {
      "cell_type": "code",
      "metadata": {
        "id": "2mEuHxY8pgzF",
        "colab_type": "code",
        "colab": {
          "base_uri": "https://localhost:8080/",
          "height": 35
        },
        "outputId": "df5f3141-37be-4e67-e4a5-0e18e9b794ea"
      },
      "source": [
        "y1[0:5]"
      ],
      "execution_count": 5,
      "outputs": [
        {
          "output_type": "execute_result",
          "data": {
            "text/plain": [
              "array([0, 2, 3, 3, 2])"
            ]
          },
          "metadata": {
            "tags": []
          },
          "execution_count": 5
        }
      ]
    },
    {
      "cell_type": "code",
      "metadata": {
        "id": "3MehnXsNp0T2",
        "colab_type": "code",
        "colab": {
          "base_uri": "https://localhost:8080/",
          "height": 35
        },
        "outputId": "68afce5d-dec7-435e-b042-1ee922fffe6a"
      },
      "source": [
        "print (x1.shape, y1.shape)"
      ],
      "execution_count": 6,
      "outputs": [
        {
          "output_type": "stream",
          "text": [
            "(50, 2) (50,)\n"
          ],
          "name": "stdout"
        }
      ]
    },
    {
      "cell_type": "code",
      "metadata": {
        "id": "3Maell7IqH8L",
        "colab_type": "code",
        "colab": {
          "base_uri": "https://localhost:8080/",
          "height": 283
        },
        "outputId": "f7495e8b-79d3-4bc9-fe99-e2b92b5fa6a0"
      },
      "source": [
        "# Scatter plot of the randomly generated data \n",
        "plt.scatter(x1[:,0], x1[:,1] ,marker='o',color = 'r')"
      ],
      "execution_count": 7,
      "outputs": [
        {
          "output_type": "execute_result",
          "data": {
            "text/plain": [
              "<matplotlib.collections.PathCollection at 0x7fa7c1682be0>"
            ]
          },
          "metadata": {
            "tags": []
          },
          "execution_count": 7
        },
        {
          "output_type": "display_data",
          "data": {
            "image/png": "[encoded data removed]",
            "text/plain": [
              "<Figure size 432x288 with 1 Axes>"
            ]
          },
          "metadata": {
            "tags": [],
            "needs_background": "light"
          }
        }
      ]
    },
    {
      "cell_type": "code",
      "metadata": {
        "id": "N9RLt_kZqPfZ",
        "colab_type": "code",
        "colab": {}
      },
      "source": [
        "# Creating the AgglomorativeClustering class object \n",
        "# the linkage parameter decides which distance between a set of observation\n",
        "agglom = AgglomerativeClustering(n_clusters= 4 , linkage = 'average')"
      ],
      "execution_count": 8,
      "outputs": []
    },
    {
      "cell_type": "code",
      "metadata": {
        "id": "wbE2XlgvshAZ",
        "colab_type": "code",
        "colab": {
          "base_uri": "https://localhost:8080/",
          "height": 72
        },
        "outputId": "e96478dc-272a-4fb6-d1ab-43f4c8535ddc"
      },
      "source": [
        "agglom"
      ],
      "execution_count": 9,
      "outputs": [
        {
          "output_type": "execute_result",
          "data": {
            "text/plain": [
              "AgglomerativeClustering(affinity='euclidean', compute_full_tree='auto',\n",
              "                        connectivity=None, distance_threshold=None,\n",
              "                        linkage='average', memory=None, n_clusters=4)"
            ]
          },
          "metadata": {
            "tags": []
          },
          "execution_count": 9
        }
      ]
    },
    {
      "cell_type": "code",
      "metadata": {
        "id": "_5dXxSlcsiNx",
        "colab_type": "code",
        "colab": {
          "base_uri": "https://localhost:8080/",
          "height": 72
        },
        "outputId": "4b825703-2556-46f9-feeb-178866b22257"
      },
      "source": [
        "# Fitting the model with the randomly generated data x1 and y1 \n",
        "agglom.fit(x1,y1)"
      ],
      "execution_count": 10,
      "outputs": [
        {
          "output_type": "execute_result",
          "data": {
            "text/plain": [
              "AgglomerativeClustering(affinity='euclidean', compute_full_tree='auto',\n",
              "                        connectivity=None, distance_threshold=None,\n",
              "                        linkage='average', memory=None, n_clusters=4)"
            ]
          },
          "metadata": {
            "tags": []
          },
          "execution_count": 10
        }
      ]
    },
    {
      "cell_type": "code",
      "metadata": {
        "id": "XD0-C9VIST07",
        "colab_type": "code",
        "colab": {
          "base_uri": "https://localhost:8080/",
          "height": 578
        },
        "outputId": "5de7438d-f32a-46f1-fc72-87319db79f12"
      },
      "source": [
        "# Plotting the clusers with matplotlib\n",
        "\n",
        "plt.figure(figsize=(8,10))\n",
        "\n",
        "for i in range(x1.shape[0]):\n",
        "  plt.text(x1[i,0],x1[i,1],str(y1[i]), color = plt.cm.nipy_spectral(agglom.labels_[i]/10),fontdict= {'weight':'bold', \"size\": 10})\n",
        "\n",
        "# Removing x ticks and y ticks \n",
        "plt.xticks([])\n",
        "plt.yticks([])\n",
        "\n",
        "# Display the original plot before clustering \n",
        "plt.scatter(x1[:,0], x1[:,1])\n",
        "\n",
        "plt.show()"
      ],
      "execution_count": 19,
      "outputs": [
        {
          "output_type": "display_data",
          "data": {
            "image/png": "[encoded data removed]",
            "text/plain": [
              "<Figure size 576x720 with 1 Axes>"
            ]
          },
          "metadata": {
            "tags": []
          }
        }
      ]
    },
    {
      "cell_type": "code",
      "metadata": {
        "id": "xv24vbwpSkIR",
        "colab_type": "code",
        "colab": {
          "base_uri": "https://localhost:8080/",
          "height": 469
        },
        "outputId": "bb4d4d51-57c2-4931-b60d-6362454b58c1"
      },
      "source": [
        "#  The data is scattered very far \n",
        "# Scaling the data points to make them close to each other \n",
        "x_min = np.min(x1 , axis =0)\n",
        "x_max = np.max(x1 , axis= 0)\n",
        "\n",
        "x1 = (x1 - x_min) / (x_max - x_min)\n",
        "plt.figure(figsize=(6,8))\n",
        "\n",
        "for i in range(x1.shape[0]):\n",
        "  plt.text(x1[i,0],x1[i,1],str(y1[i]), color = plt.cm.nipy_spectral(agglom.labels_[i]/10),fontdict= {'weight':'bold', \"size\": 12})\n",
        "\n",
        "# Removing x ticks and y ticks \n",
        "plt.xticks([])\n",
        "plt.yticks([])\n",
        "\n",
        "# Display the original plot before clustering \n",
        "plt.scatter(x1[:,0], x1[:,1])\n",
        "\n",
        "plt.show()"
      ],
      "execution_count": 25,
      "outputs": [
        {
          "output_type": "display_data",
          "data": {
            "image/png": "[encoded data removed]",
            "text/plain": [
              "<Figure size 432x576 with 1 Axes>"
            ]
          },
          "metadata": {
            "tags": []
          }
        }
      ]
    },
    {
      "cell_type": "code",
      "metadata": {
        "id": "9GPq7S44WWum",
        "colab_type": "code",
        "colab": {
          "base_uri": "https://localhost:8080/",
          "height": 35
        },
        "outputId": "e4664095-4f47-4934-b979-37b3530422ef"
      },
      "source": [
        ""
      ],
      "execution_count": 21,
      "outputs": [
        {
          "output_type": "execute_result",
          "data": {
            "text/plain": [
              "array([-3.43990647, -5.27256462])"
            ]
          },
          "metadata": {
            "tags": []
          },
          "execution_count": 21
        }
      ]
    },
    {
      "cell_type": "code",
      "metadata": {
        "id": "9si872VbZyr6",
        "colab_type": "code",
        "colab": {
          "base_uri": "https://localhost:8080/",
          "height": 450
        },
        "outputId": "f0ec1203-2839-4db1-ec37-a8b371eddaad"
      },
      "source": [
        "# creating a Dendogram for our Agglomerative Clustering model \n",
        "\n",
        "# First creating a distance matrix \n",
        "dist_matrix = distance_matrix(x1,x1)\n",
        "print (dist_matrix)\n",
        "\n",
        "Z = hierarchy.linkage(dist_matrix, 'complete')\n",
        "\n",
        "dendo = hierarchy.dendrogram(Z)"
      ],
      "execution_count": 30,
      "outputs": [
        {
          "output_type": "stream",
          "text": [
            "[[0.         0.45735247 0.87722866 ... 0.63412245 0.29313837 0.07770398]\n",
            " [0.45735247 0.         0.78513076 ... 0.18025714 0.18372982 0.38533947]\n",
            " [0.87722866 0.78513076 0.         ... 0.85757496 0.72561938 0.82211296]\n",
            " ...\n",
            " [0.63412245 0.18025714 0.85757496 ... 0.         0.36319007 0.56396822]\n",
            " [0.29313837 0.18372982 0.72561938 ... 0.36319007 0.         0.21627473]\n",
            " [0.07770398 0.38533947 0.82211296 ... 0.56396822 0.21627473 0.        ]]\n"
          ],
          "name": "stdout"
        },
        {
          "output_type": "stream",
          "text": [
            "/usr/local/lib/python3.6/dist-packages/ipykernel_launcher.py:7: ClusterWarning: scipy.cluster: The symmetric non-negative hollow observation matrix looks suspiciously like an uncondensed distance matrix\n",
            "  import sys\n"
          ],
          "name": "stderr"
        },
        {
          "output_type": "display_data",
          "data": {
            "image/png": "[encoded data removed]",
            "text/plain": [
              "<Figure size 432x288 with 1 Axes>"
            ]
          },
          "metadata": {
            "tags": [],
            "needs_background": "light"
          }
        }
      ]
    },
    {
      "cell_type": "code",
      "metadata": {
        "id": "3_7XDdIBc4Z2",
        "colab_type": "code",
        "colab": {
          "base_uri": "https://localhost:8080/",
          "height": 323
        },
        "outputId": "9d2d44cb-db0c-4a72-cb79-c4e825f8b094"
      },
      "source": [
        "# Using 'average' as linkage \n",
        "Z = hierarchy.linkage(dist_matrix , 'average')\n",
        "dendo = hierarchy.dendrogram(Z)"
      ],
      "execution_count": 33,
      "outputs": [
        {
          "output_type": "stream",
          "text": [
            "/usr/local/lib/python3.6/dist-packages/ipykernel_launcher.py:2: ClusterWarning: scipy.cluster: The symmetric non-negative hollow observation matrix looks suspiciously like an uncondensed distance matrix\n",
            "  \n"
          ],
          "name": "stderr"
        },
        {
          "output_type": "display_data",
          "data": {
            "image/png": "[encoded data removed]",
            "text/plain": [
              "<Figure size 432x288 with 1 Axes>"
            ]
          },
          "metadata": {
            "tags": [],
            "needs_background": "light"
          }
        }
      ]
    }
  ]
}